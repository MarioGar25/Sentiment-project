{
 "cells": [
  {
   "cell_type": "markdown",
   "metadata": {},
   "source": [
    "# API Test"
   ]
  },
  {
   "cell_type": "markdown",
   "metadata": {},
   "source": [
    "## Import"
   ]
  },
  {
   "cell_type": "code",
   "execution_count": 2,
   "metadata": {},
   "outputs": [],
   "source": [
    "import requests\n",
    "from src.utils import descompress_data\n",
    "import pandas as pd"
   ]
  },
  {
   "cell_type": "markdown",
   "metadata": {},
   "source": [
    "## Cheking API"
   ]
  },
  {
   "cell_type": "code",
   "execution_count": 2,
   "metadata": {},
   "outputs": [],
   "source": [
    "url = \"http://127.0.0.1:5000/users\""
   ]
  },
  {
   "cell_type": "code",
   "execution_count": 3,
   "metadata": {},
   "outputs": [],
   "source": [
    "response = requests.get(url)"
   ]
  },
  {
   "cell_type": "code",
   "execution_count": 4,
   "metadata": {},
   "outputs": [
    {
     "data": {
      "text/plain": [
       "<Response [200]>"
      ]
     },
     "execution_count": 4,
     "metadata": {},
     "output_type": "execute_result"
    }
   ],
   "source": [
    "response"
   ]
  },
  {
   "cell_type": "code",
   "execution_count": 5,
   "metadata": {},
   "outputs": [],
   "source": [
    "res = response.json()"
   ]
  },
  {
   "cell_type": "code",
   "execution_count": 6,
   "metadata": {},
   "outputs": [
    {
     "data": {
      "text/plain": [
       "[{'_id': {'$oid': '6033df93f686c72decfe126e'},\n",
       "  'group': '1',\n",
       "  'name': 'Albus Dumbledore',\n",
       "  'message': 'I should have known that you would be here, Professor McGonagall.'},\n",
       " {'_id': {'$oid': '6033df93f686c72decfe126f'},\n",
       "  'group': '1',\n",
       "  'name': 'Minerva McGonagall',\n",
       "  'message': 'Good evening, Professor Dumbledore. Are the rumours true Albus?'}]"
      ]
     },
     "execution_count": 6,
     "metadata": {},
     "output_type": "execute_result"
    }
   ],
   "source": [
    "res[:2]"
   ]
  },
  {
   "cell_type": "markdown",
   "metadata": {},
   "source": [
    "So far we have checked that the first endpoint works correctly, we pass it a Collection and it returns all the information it contains."
   ]
  },
  {
   "cell_type": "code",
   "execution_count": 7,
   "metadata": {},
   "outputs": [
    {
     "data": {
      "text/plain": [
       "{'Error': 'Not a valid Collection. The Collections are: users; group; messages'}"
      ]
     },
     "execution_count": 7,
     "metadata": {},
     "output_type": "execute_result"
    }
   ],
   "source": [
    "requests.get(\"http://127.0.0.1:5000/uses\").json()"
   ]
  },
  {
   "cell_type": "markdown",
   "metadata": {},
   "source": [
    "Let's see what happens if we put the wrong name of the Collection."
   ]
  },
  {
   "cell_type": "code",
   "execution_count": 8,
   "metadata": {},
   "outputs": [],
   "source": [
    "params = {\"name\":\"Sirius Black\", \"message\":\"We’ve all got both light and dark inside us. What matters is the part we choose to act on. That’s who we really are.\", \"group\":\"Harry Potter and the Order of the Phoenix\"}\n",
    "response_insert = requests.get(\"http://127.0.0.1:5000/users/insert\", params=params).json()"
   ]
  },
  {
   "cell_type": "code",
   "execution_count": 9,
   "metadata": {},
   "outputs": [
    {
     "data": {
      "text/plain": [
       "{'_id': {'$oid': '603442830f25442df4e9f0a1'}}"
      ]
     },
     "execution_count": 9,
     "metadata": {},
     "output_type": "execute_result"
    }
   ],
   "source": [
    "response_insert"
   ]
  },
  {
   "cell_type": "markdown",
   "metadata": {},
   "source": [
    "We test the endpoint that inserts new data to the API. "
   ]
  },
  {
   "cell_type": "code",
   "execution_count": 10,
   "metadata": {},
   "outputs": [
    {
     "data": {
      "text/plain": [
       "[{'_id': {'$oid': '603442830f25442df4e9f0a1'},\n",
       "  'name': 'Sirius Black',\n",
       "  'message': 'We’ve all got both light and dark inside us. What matters is the part we choose to act on. That’s who we really are.',\n",
       "  'group': 'Harry Potter and the Order of the Phoenix'}]"
      ]
     },
     "execution_count": 10,
     "metadata": {},
     "output_type": "execute_result"
    }
   ],
   "source": [
    "requests.get(\"http://127.0.0.1:5000/users/showbyname/Sirius Black\").json()"
   ]
  },
  {
   "cell_type": "markdown",
   "metadata": {},
   "source": [
    "It seems to have been created correctly."
   ]
  },
  {
   "cell_type": "code",
   "execution_count": 11,
   "metadata": {},
   "outputs": [
    {
     "data": {
      "text/plain": [
       "[{'_id': {'$oid': '6033e0e7f686c72decfe1ed2'},\n",
       "  'group': '1',\n",
       "  'name': 'Albus Dumbledore',\n",
       "  'message': 'I should have known that you would be here, Professor McGonagall.'},\n",
       " {'_id': {'$oid': '6033e0e7f686c72decfe1ed3'},\n",
       "  'group': '1',\n",
       "  'name': 'Minerva McGonagall',\n",
       "  'message': 'Good evening, Professor Dumbledore. Are the rumours true Albus?'},\n",
       " {'_id': {'$oid': '6033e0e7f686c72decfe1ed4'},\n",
       "  'group': '1',\n",
       "  'name': 'Albus Dumbledore',\n",
       "  'message': \"I'm afraid so, Professor. The good, and the bad.\"},\n",
       " {'_id': {'$oid': '6033e0e7f686c72decfe1ed5'},\n",
       "  'group': '1',\n",
       "  'name': 'Minerva McGonagall',\n",
       "  'message': 'And the boy?'},\n",
       " {'_id': {'$oid': '6033e0e7f686c72decfe1ed6'},\n",
       "  'group': '1',\n",
       "  'name': 'Albus Dumbledore',\n",
       "  'message': 'Hagrid is bringing him.'},\n",
       " {'_id': {'$oid': '6033e0e7f686c72decfe1ed7'},\n",
       "  'group': '1',\n",
       "  'name': 'Minerva McGonagall',\n",
       "  'message': 'Do you think it wise to trust Hagrid with something as important as this?'},\n",
       " {'_id': {'$oid': '6033e0e7f686c72decfe1ed8'},\n",
       "  'group': '1',\n",
       "  'name': 'Albus Dumbledore',\n",
       "  'message': 'Ah, Professor, I would trust Hagrid with my life.'},\n",
       " {'_id': {'$oid': '6033e0e7f686c72decfe1ed9'},\n",
       "  'group': '1',\n",
       "  'name': 'Rubeus Hagrid',\n",
       "  'message': 'Professor Dumbledore, Sir. Professor McGonagall.'},\n",
       " {'_id': {'$oid': '6033e0e7f686c72decfe1eda'},\n",
       "  'group': '1',\n",
       "  'name': 'Albus Dumbledore',\n",
       "  'message': 'No problems, I trust, Hagrid?'},\n",
       " {'_id': {'$oid': '6033e0e7f686c72decfe1edb'},\n",
       "  'group': '1',\n",
       "  'name': 'Rubeus Hagrid',\n",
       "  'message': 'No, Sir. Little tyke fell asleep just as we were flying over Bristol. Heh.Try not to wake him. There you go.'},\n",
       " {'_id': {'$oid': '6033e0e7f686c72decfe1edc'},\n",
       "  'group': '1',\n",
       "  'name': 'Minerva McGonagall',\n",
       "  'message': \"Albus, do you really think it's safe, leaving him with these people? I've watched them all day. They're the worst sort of Muggles imaginable. They really are\\x85\"},\n",
       " {'_id': {'$oid': '6033e0e7f686c72decfe1edd'},\n",
       "  'group': '1',\n",
       "  'name': 'Albus Dumbledore',\n",
       "  'message': 'The only family he has.'},\n",
       " {'_id': {'$oid': '6033e0e7f686c72decfe1ede'},\n",
       "  'group': '1',\n",
       "  'name': 'Minerva McGonagall',\n",
       "  'message': \"This boy will be famous. There won't be a child in our world who doesn't know his name.\"},\n",
       " {'_id': {'$oid': '6033e0e7f686c72decfe1edf'},\n",
       "  'group': '1',\n",
       "  'name': 'Albus Dumbledore',\n",
       "  'message': \"Exactly. He's far better off growing up away from all of that. Until he is ready.\"},\n",
       " {'_id': {'$oid': '6033e0e7f686c72decfe1ee0'},\n",
       "  'group': '1',\n",
       "  'name': 'Albus Dumbledore',\n",
       "  'message': \"There there, Hagrid. It's not really goodbye, after all.\"},\n",
       " {'_id': {'$oid': '6033e0e7f686c72decfe1ee1'},\n",
       "  'group': '1',\n",
       "  'name': 'Albus Dumbledore',\n",
       "  'message': 'Good luck, Harry Potter.'}]"
      ]
     },
     "execution_count": 11,
     "metadata": {},
     "output_type": "execute_result"
    }
   ],
   "source": [
    "requests.get(\"http://127.0.0.1:5000/messages/showbygroup/1\").json()"
   ]
  },
  {
   "cell_type": "markdown",
   "metadata": {},
   "source": [
    "We can check any Collection by selecting the field we want to see."
   ]
  },
  {
   "cell_type": "code",
   "execution_count": 13,
   "metadata": {},
   "outputs": [
    {
     "data": {
      "text/plain": [
       "[-0.19999999999999996, 0.7222222222222222]"
      ]
     },
     "execution_count": 13,
     "metadata": {},
     "output_type": "execute_result"
    }
   ],
   "source": [
    "requests.get(\"http://127.0.0.1:5000/sentimentalAnalisys/I'm afraid so, Professor. The good, and the bad.\").json()"
   ]
  },
  {
   "cell_type": "markdown",
   "metadata": {},
   "source": [
    "The sentimental analisys works correctly, passing a string to it."
   ]
  },
  {
   "cell_type": "code",
   "execution_count": 11,
   "metadata": {},
   "outputs": [
    {
     "data": {
      "text/plain": [
       "{'neg': 0.256, 'neu': 0.512, 'pos': 0.232, 'compound': -0.0865}"
      ]
     },
     "execution_count": 11,
     "metadata": {},
     "output_type": "execute_result"
    }
   ],
   "source": [
    "requests.get(\"http://127.0.0.1:5000/polarityAnalisys/I'm afraid so, Professor. The good, and the bad.\").json()"
   ]
  },
  {
   "cell_type": "markdown",
   "metadata": {},
   "source": [
    "As well as polarity analysis."
   ]
  },
  {
   "cell_type": "code",
   "execution_count": 16,
   "metadata": {},
   "outputs": [
    {
     "data": {
      "text/plain": [
       "0.3511666666666666"
      ]
     },
     "execution_count": 16,
     "metadata": {},
     "output_type": "execute_result"
    }
   ],
   "source": [
    "params = {\"name\":\"Albus Dumbledore\"}\n",
    "requests.get(\"http://127.0.0.1:5000/sentimentalAnalisys/mean\", params=params).json()"
   ]
  },
  {
   "cell_type": "code",
   "execution_count": 24,
   "metadata": {},
   "outputs": [
    {
     "data": {
      "text/plain": [
       "0.07483529411764706"
      ]
     },
     "execution_count": 24,
     "metadata": {},
     "output_type": "execute_result"
    }
   ],
   "source": [
    "params = {\"name\":\"Harry Potter\", \"group\": \"27\"}\n",
    "requests.get(\"http://127.0.0.1:5000/sentimentalAnalisys/mean\", params=params).json()"
   ]
  },
  {
   "cell_type": "markdown",
   "metadata": {},
   "source": [
    "We can check the average of all the sentences said by a given character as a whole or in a given group."
   ]
  }
 ],
 "metadata": {
  "kernelspec": {
   "display_name": "Python 3",
   "language": "python",
   "name": "python3"
  },
  "language_info": {
   "codemirror_mode": {
    "name": "ipython",
    "version": 3
   },
   "file_extension": ".py",
   "mimetype": "text/x-python",
   "name": "python",
   "nbconvert_exporter": "python",
   "pygments_lexer": "ipython3",
   "version": "3.8.5"
  },
  "toc": {
   "base_numbering": 1,
   "nav_menu": {},
   "number_sections": true,
   "sideBar": true,
   "skip_h1_title": false,
   "title_cell": "Table of Contents",
   "title_sidebar": "Contents",
   "toc_cell": false,
   "toc_position": {},
   "toc_section_display": true,
   "toc_window_display": false
  },
  "varInspector": {
   "cols": {
    "lenName": 16,
    "lenType": 16,
    "lenVar": 40
   },
   "kernels_config": {
    "python": {
     "delete_cmd_postfix": "",
     "delete_cmd_prefix": "del ",
     "library": "var_list.py",
     "varRefreshCmd": "print(var_dic_list())"
    },
    "r": {
     "delete_cmd_postfix": ") ",
     "delete_cmd_prefix": "rm(",
     "library": "var_list.r",
     "varRefreshCmd": "cat(var_dic_list()) "
    }
   },
   "types_to_exclude": [
    "module",
    "function",
    "builtin_function_or_method",
    "instance",
    "_Feature"
   ],
   "window_display": false
  }
 },
 "nbformat": 4,
 "nbformat_minor": 4
}
